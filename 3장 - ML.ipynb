{
 "cells": [
  {
   "cell_type": "code",
   "execution_count": 7,
   "metadata": {},
   "outputs": [],
   "source": [
    "import pandas as pd\n",
    "import numpy as np\n",
    "from sklearn.preprocessing import OneHotEncoder,LabelEncoder\n",
    "from sklearn.metrics import accuracy_score\n",
    "from sklearn.tree import DecisionTreeClassifier"
   ]
  },
  {
   "cell_type": "code",
   "execution_count": 143,
   "metadata": {},
   "outputs": [],
   "source": [
    "titanic_df=pd.read_csv(r'C:\\Users\\PC\\Desktop\\새 폴더\\train.csv')"
   ]
  },
  {
   "cell_type": "code",
   "execution_count": 144,
   "metadata": {
    "scrolled": true
   },
   "outputs": [
    {
     "data": {
      "text/plain": [
       "G6             4\n",
       "B96 B98        4\n",
       "C23 C25 C27    4\n",
       "E101           3\n",
       "F33            3\n",
       "              ..\n",
       "B3             1\n",
       "C45            1\n",
       "C86            1\n",
       "C82            1\n",
       "C47            1\n",
       "Name: Cabin, Length: 147, dtype: int64"
      ]
     },
     "execution_count": 144,
     "metadata": {},
     "output_type": "execute_result"
    }
   ],
   "source": [
    "titanic_df['Cabin'].value_counts()"
   ]
  },
  {
   "cell_type": "code",
   "execution_count": 145,
   "metadata": {},
   "outputs": [],
   "source": [
    "#문자형을 숫자형데이터로 변형하는 함수\n",
    "def encode_features(df):\n",
    "    #df['Cabin']=df['Cabin'].str[:1]\n",
    "    features=['Sex','Cabin','Embarked']\n",
    "    for feature in features:\n",
    "        le=LabelEncoder()\n",
    "        le=le.fit(df[feature])\n",
    "        df[feature]=le.transform(df[feature])\n",
    "    return df\n",
    "#NULL처리 함수\n",
    "def fillna(df):\n",
    "    df['Age'].fillna(df['Age'].mean(),inplace=True)\n",
    "    df['Cabin'].fillna('N',inplace=True)\n",
    "    df['Embarked'].fillna('N',inplace=True)\n",
    "    df['Fare'].fillna(0,inplace=True)\n",
    "    return df\n",
    "#머신러닝 알고리즘에 불필요한 속성 제거\n",
    "def drop_features(df):\n",
    "    df.drop(['PassengerId','Name','Ticket'],axis=1,inplace=True)\n",
    "    return df\n",
    "#앞에서 설정한 데이터 전처리 함수 호출\n",
    "def transform_features(df):\n",
    "    df=fillna(df)\n",
    "    df=encode_features(df)\n",
    "    df=drop_features(df)\n",
    "    return df\n"
   ]
  },
  {
   "cell_type": "code",
   "execution_count": 79,
   "metadata": {},
   "outputs": [],
   "source": [
    "from sklearn.base import BaseEstimator\n",
    "\n",
    "class MyDummyClassifier(BaseEstimator):\n",
    "    def fit(self,X,y):\n",
    "        pass\n",
    "    def predict(self,X):\n",
    "        pred=np.zeros((X.shape[0],1))\n",
    "        for i in range(X.shape[0]):\n",
    "            if X['Sex'].iloc[i]==1:\n",
    "                pred[i]=0\n",
    "            else:\n",
    "                pred[i]=1\n",
    "        return pred"
   ]
  },
  {
   "cell_type": "code",
   "execution_count": 43,
   "metadata": {},
   "outputs": [],
   "source": [
    "from sklearn.model_selection import train_test_split"
   ]
  },
  {
   "cell_type": "code",
   "execution_count": 71,
   "metadata": {},
   "outputs": [],
   "source": [
    "titanic_df=pd.read_csv(r'C:\\Users\\PC\\Desktop\\새 폴더\\train.csv')\n"
   ]
  },
  {
   "cell_type": "code",
   "execution_count": 146,
   "metadata": {},
   "outputs": [],
   "source": [
    "y_titanic_df=titanic_df['Survived']\n",
    "X_titanic_df=titanic_df.drop('Survived',axis=1)\n",
    "X_titanic_df=transform_features(X_titanic_df)"
   ]
  },
  {
   "cell_type": "code",
   "execution_count": 76,
   "metadata": {},
   "outputs": [],
   "source": [
    "X_train,X_test,y_train,y_test=train_test_split(X_titanic_df,y_titanic_df,test_size=0.2,random_state=0)"
   ]
  },
  {
   "cell_type": "code",
   "execution_count": 80,
   "metadata": {},
   "outputs": [
    {
     "name": "stdout",
     "output_type": "stream",
     "text": [
      "Dummy Classifier의 정확도 : 0.7877094972067039\n"
     ]
    }
   ],
   "source": [
    "my_clf=MyDummyClassifier()\n",
    "my_clf.fit(X_train,y_train)\n",
    "pred=my_clf.predict(X_test)\n",
    "print('Dummy Classifier의 정확도 : {0}'.format(accuracy_score(y_test,pred)))"
   ]
  },
  {
   "cell_type": "code",
   "execution_count": 133,
   "metadata": {},
   "outputs": [],
   "source": [
    "from sklearn.datasets import load_digits\n",
    "\n",
    "class MyFakeClassifier(BaseEstimator):\n",
    "    def fit(self,X,y):\n",
    "        pass\n",
    "    def predict(self,X):\n",
    "        return np.zeros((len(X),1),dtype=bool)\n",
    "\n",
    "digits=load_digits()\n",
    "\n",
    "y=(digits.target==7).astype(int)\n",
    "X_train,X_test,y_train,y_test=train_test_split(digits.data,y,random_state=11)"
   ]
  },
  {
   "cell_type": "code",
   "execution_count": 126,
   "metadata": {},
   "outputs": [
    {
     "name": "stdout",
     "output_type": "stream",
     "text": [
      "레이블(target)테스트 세트 크기: (450,)\n",
      "테스트 세트 레이블 0과 1의 분포도:\n",
      " 0    405\n",
      "1     45\n",
      "dtype: int64\n"
     ]
    }
   ],
   "source": [
    "print('레이블(target)테스트 세트 크기:',y_test.shape)\n",
    "print('테스트 세트 레이블 0과 1의 분포도:\\n',pd.Series(y_test).value_counts())"
   ]
  },
  {
   "cell_type": "code",
   "execution_count": 134,
   "metadata": {},
   "outputs": [
    {
     "data": {
      "text/plain": [
       "0.9"
      ]
     },
     "execution_count": 134,
     "metadata": {},
     "output_type": "execute_result"
    }
   ],
   "source": [
    "fake_clf=MyFakeClassifier()\n",
    "fake_clf.fit(X_train,y_train)\n",
    "pred=fake_clf.predict(X_test)\n",
    "accuracy_score(y_test,pred)"
   ]
  },
  {
   "cell_type": "code",
   "execution_count": 137,
   "metadata": {
    "scrolled": true
   },
   "outputs": [
    {
     "data": {
      "text/plain": [
       "array([[405,   0],\n",
       "       [ 45,   0]], dtype=int64)"
      ]
     },
     "execution_count": 137,
     "metadata": {},
     "output_type": "execute_result"
    }
   ],
   "source": [
    "from sklearn.metrics import confusion_matrix,precision_score,recall_score\n",
    "from sklearn.linear_model import LogisticRegression\n",
    "confusion_matrix(y_test,pred)"
   ]
  },
  {
   "cell_type": "code",
   "execution_count": 147,
   "metadata": {},
   "outputs": [
    {
     "name": "stderr",
     "output_type": "stream",
     "text": [
      "C:\\Users\\PC\\anaconda3\\lib\\site-packages\\sklearn\\linear_model\\_logistic.py:762: ConvergenceWarning: lbfgs failed to converge (status=1):\n",
      "STOP: TOTAL NO. of ITERATIONS REACHED LIMIT.\n",
      "\n",
      "Increase the number of iterations (max_iter) or scale the data as shown in:\n",
      "    https://scikit-learn.org/stable/modules/preprocessing.html\n",
      "Please also refer to the documentation for alternative solver options:\n",
      "    https://scikit-learn.org/stable/modules/linear_model.html#logistic-regression\n",
      "  n_iter_i = _check_optimize_result(\n"
     ]
    }
   ],
   "source": [
    "X_train,X_test,y_train,y_test=train_test_split(X_titanic_df,y_titanic_df,test_size=0.2,random_state=11)\n",
    "lr_clf=LogisticRegression()\n",
    "lr_clf.fit(X_train,y_train)\n",
    "pred=lr_clf.predict(X_test)"
   ]
  },
  {
   "cell_type": "code",
   "execution_count": 148,
   "metadata": {},
   "outputs": [],
   "source": [
    "def get_clf_eval(y_test,pred):\n",
    "    confusion=confusion_matrix(y_test,pred)\n",
    "    accuracy=accuracy_score(y_test,pred)\n",
    "    precision=precision_score(y_test,pred)\n",
    "    recall=recall_score(y_test,pred)\n",
    "    print('오차행렬')\n",
    "    print(confusion)\n",
    "    print('정확도:{0},정밀도:{1},재현율:{2}'.format(accuracy,precision,recall))"
   ]
  },
  {
   "cell_type": "code",
   "execution_count": 149,
   "metadata": {},
   "outputs": [
    {
     "name": "stdout",
     "output_type": "stream",
     "text": [
      "오차행렬\n",
      "[[106  12]\n",
      " [ 13  48]]\n",
      "정확도:0.8603351955307262,정밀도:0.8,재현율:0.7868852459016393\n"
     ]
    }
   ],
   "source": [
    "get_clf_eval(y_test,pred)"
   ]
  },
  {
   "cell_type": "code",
   "execution_count": 151,
   "metadata": {},
   "outputs": [
    {
     "name": "stdout",
     "output_type": "stream",
     "text": [
      "pred_porba의 결과 Shape: (179, 2)\n",
      "pred_proba array에서 앞 3개만 샘플로만 추출\n",
      ": [[0.49823049 0.50176951]\n",
      " [0.87000696 0.12999304]\n",
      " [0.85942673 0.14057327]]\n"
     ]
    }
   ],
   "source": [
    "pred_proba=lr_clf.predict_proba(X_test)\n",
    "print('pred_porba의 결과 Shape:',pred_proba.shape)\n",
    "print('pred_proba array에서 앞 3개만 샘플로만 추출\\n:',pred_proba[:3])"
   ]
  },
  {
   "cell_type": "code",
   "execution_count": 154,
   "metadata": {},
   "outputs": [
    {
     "name": "stdout",
     "output_type": "stream",
     "text": [
      "(179, 8) (712, 8) (712,) (179,)\n"
     ]
    }
   ],
   "source": [
    "print(X_test.shape,X_train.shape,y_train.shape,y_test.shape)"
   ]
  },
  {
   "cell_type": "code",
   "execution_count": 164,
   "metadata": {},
   "outputs": [
    {
     "name": "stdout",
     "output_type": "stream",
     "text": [
      "두개의 class 중에서 더 큰 확률을 클래스 값으로 예측 :\n",
      " [[0.49823049 0.50176951 1.        ]\n",
      " [0.87000696 0.12999304 0.        ]\n",
      " [0.85942673 0.14057327 0.        ]\n",
      " [0.88643865 0.11356135 0.        ]\n",
      " [0.8707261  0.1292739  0.        ]\n",
      " [0.89355547 0.10644453 0.        ]\n",
      " [0.88157912 0.11842088 0.        ]\n",
      " [0.17083862 0.82916138 1.        ]\n",
      " [0.7897096  0.2102904  0.        ]]\n"
     ]
    }
   ],
   "source": [
    "#예측 확률 array와 예측 결과값 array를 병합(concatenate)해 예측확률과 결과값을 한눈에 확인\n",
    "pred_proba_result=np.concatenate([pred_proba,pred.reshape(-1,1)],axis=1)\n",
    "print('두개의 class 중에서 더 큰 확률을 클래스 값으로 예측 :\\n',pred_proba_result[:9])"
   ]
  },
  {
   "cell_type": "code",
   "execution_count": 181,
   "metadata": {},
   "outputs": [
    {
     "data": {
      "text/plain": [
       "array([[0.50176951],\n",
       "       [0.12999304],\n",
       "       [0.14057327],\n",
       "       [0.11356135],\n",
       "       [0.1292739 ],\n",
       "       [0.10644453],\n",
       "       [0.11842088],\n",
       "       [0.82916138],\n",
       "       [0.2102904 ],\n",
       "       [0.58325184],\n",
       "       [0.08871554],\n",
       "       [0.1322184 ],\n",
       "       [0.14057872],\n",
       "       [0.11846011],\n",
       "       [0.53701701],\n",
       "       [0.15371203],\n",
       "       [0.10535701],\n",
       "       [0.26951181],\n",
       "       [0.19868553],\n",
       "       [0.87897542],\n",
       "       [0.24678123],\n",
       "       [0.36211774],\n",
       "       [0.15896203],\n",
       "       [0.24682617],\n",
       "       [0.11877688],\n",
       "       [0.23372804],\n",
       "       [0.13027443],\n",
       "       [0.0829225 ],\n",
       "       [0.28521973],\n",
       "       [0.22941097],\n",
       "       [0.93814846],\n",
       "       [0.76309635],\n",
       "       [0.16241563],\n",
       "       [0.86985925],\n",
       "       [0.35798174],\n",
       "       [0.23372804],\n",
       "       [0.07596984],\n",
       "       [0.58542227],\n",
       "       [0.04937583],\n",
       "       [0.1093533 ],\n",
       "       [0.41881587],\n",
       "       [0.09451968],\n",
       "       [0.76910895],\n",
       "       [0.6662461 ],\n",
       "       [0.62994636],\n",
       "       [0.62995958],\n",
       "       [0.90781375],\n",
       "       [0.38008551],\n",
       "       [0.93830202],\n",
       "       [0.11880638],\n",
       "       [0.55770886],\n",
       "       [0.11846011],\n",
       "       [0.14378535],\n",
       "       [0.76832953],\n",
       "       [0.3182243 ],\n",
       "       [0.1834338 ],\n",
       "       [0.16027994],\n",
       "       [0.14057422],\n",
       "       [0.16968824],\n",
       "       [0.41296918],\n",
       "       [0.28498037],\n",
       "       [0.10384319],\n",
       "       [0.50618987],\n",
       "       [0.55987499],\n",
       "       [0.44023476],\n",
       "       [0.09842484],\n",
       "       [0.65409736],\n",
       "       [0.57072032],\n",
       "       [0.93605614],\n",
       "       [0.19507556],\n",
       "       [0.1368114 ],\n",
       "       [0.18701763],\n",
       "       [0.10935521],\n",
       "       [0.94543896],\n",
       "       [0.19337598],\n",
       "       [0.11846011],\n",
       "       [0.32379927],\n",
       "       [0.17657992],\n",
       "       [0.81773373],\n",
       "       [0.14057422],\n",
       "       [0.7324959 ],\n",
       "       [0.70788476],\n",
       "       [0.93219428],\n",
       "       [0.12036448],\n",
       "       [0.92289435],\n",
       "       [0.93531769],\n",
       "       [0.20256093],\n",
       "       [0.14391726],\n",
       "       [0.87931096],\n",
       "       [0.11846011],\n",
       "       [0.11846011],\n",
       "       [0.23372804],\n",
       "       [0.24215401],\n",
       "       [0.11846011],\n",
       "       [0.62995958],\n",
       "       [0.07663917],\n",
       "       [0.91306364],\n",
       "       [0.10559064],\n",
       "       [0.45103568],\n",
       "       [0.96461448],\n",
       "       [0.488297  ],\n",
       "       [0.09693242],\n",
       "       [0.92787819],\n",
       "       [0.10189103],\n",
       "       [0.50931158],\n",
       "       [0.13863139],\n",
       "       [0.15375303],\n",
       "       [0.19507525],\n",
       "       [0.42050212],\n",
       "       [0.14413042],\n",
       "       [0.10590957],\n",
       "       [0.11522132],\n",
       "       [0.39229787],\n",
       "       [0.67352265],\n",
       "       [0.11877688],\n",
       "       [0.06882226],\n",
       "       [0.11351738],\n",
       "       [0.19319287],\n",
       "       [0.9247155 ],\n",
       "       [0.06867118],\n",
       "       [0.11845255],\n",
       "       [0.16781807],\n",
       "       [0.07054077],\n",
       "       [0.30821757],\n",
       "       [0.00895186],\n",
       "       [0.11845255],\n",
       "       [0.12890632],\n",
       "       [0.32663238],\n",
       "       [0.68113393],\n",
       "       [0.29981079],\n",
       "       [0.96461448],\n",
       "       [0.38773432],\n",
       "       [0.77033537],\n",
       "       [0.49986171],\n",
       "       [0.53794111],\n",
       "       [0.37088293],\n",
       "       [0.72348445],\n",
       "       [0.1441333 ],\n",
       "       [0.10937656],\n",
       "       [0.74812693],\n",
       "       [0.88993141],\n",
       "       [0.19507525],\n",
       "       [0.13452668],\n",
       "       [0.11321247],\n",
       "       [0.09497892],\n",
       "       [0.64933919],\n",
       "       [0.07660219],\n",
       "       [0.20065348],\n",
       "       [0.88263983],\n",
       "       [0.15732608],\n",
       "       [0.41002005],\n",
       "       [0.62142522],\n",
       "       [0.61453072],\n",
       "       [0.14052362],\n",
       "       [0.74242084],\n",
       "       [0.82988912],\n",
       "       [0.42495513],\n",
       "       [0.1439271 ],\n",
       "       [0.79777224],\n",
       "       [0.69715637],\n",
       "       [0.16428691],\n",
       "       [0.78820257],\n",
       "       [0.09467668],\n",
       "       [0.65404156],\n",
       "       [0.3343652 ],\n",
       "       [0.63627166],\n",
       "       [0.86305482],\n",
       "       [0.27866472],\n",
       "       [0.09499507],\n",
       "       [0.82885617],\n",
       "       [0.11842088],\n",
       "       [0.81587223],\n",
       "       [0.29131199],\n",
       "       [0.23627415],\n",
       "       [0.43273942],\n",
       "       [0.06154605],\n",
       "       [0.15375914],\n",
       "       [0.50080111],\n",
       "       [0.63971529]])"
      ]
     },
     "execution_count": 181,
     "metadata": {},
     "output_type": "execute_result"
    }
   ],
   "source": [
    "pred_proba[:,1].reshape(-1,1)"
   ]
  },
  {
   "cell_type": "code",
   "execution_count": 165,
   "metadata": {},
   "outputs": [],
   "source": [
    "from sklearn.preprocessing import Binarizer"
   ]
  },
  {
   "cell_type": "code",
   "execution_count": 167,
   "metadata": {},
   "outputs": [
    {
     "name": "stdout",
     "output_type": "stream",
     "text": [
      "[[0. 0. 1.]\n",
      " [1. 0. 0.]\n",
      " [0. 0. 1.]]\n"
     ]
    }
   ],
   "source": [
    "X=[[1,-1,2],\n",
    "  [2,0,0],\n",
    "  [0,1.1,1.2]]\n",
    "#X의 개별 원소들이 threshold값보다 같거나 작으면 0을, 크면 1을 반환\n",
    "binarizer=Binarizer(threshold=1.1)\n",
    "print(binarizer.fit_transform(X))"
   ]
  },
  {
   "cell_type": "code",
   "execution_count": 183,
   "metadata": {},
   "outputs": [
    {
     "name": "stdout",
     "output_type": "stream",
     "text": [
      "오차행렬\n",
      "[[97 21]\n",
      " [12 49]]\n",
      "정확도:0.8156424581005587,정밀도:0.7,재현율:0.8032786885245902\n"
     ]
    }
   ],
   "source": [
    "#Binarizer의 threshold설정값. 분류 결정 임계값\n",
    "custom_threshold=0.4\n",
    "#predict_proba()반환값의 두번째 칼럼, 즉 Positive클래스 칼럼 하나만 추출해 Binarizer적용\n",
    "pred_proba1=pred_proba[:,1].reshape(-1,1)\n",
    "\n",
    "binarizer=Binarizer(threshold=custom_threshold).fit(pred_proba1)\n",
    "custom_predict=binarizer.transform(pred_proba1)\n",
    "\n",
    "get_clf_eval(y_test,custom_predict)\n",
    "#임계값은 Positive 예측값을 결정하는 확률의 기준이 된다.확률이 0.5가 아닌 0.4부터 Positive로 예측을 더 너그럽게 하기 \n",
    "#때문에 임계값을 낮출수록 True값이 많아지게 된다."
   ]
  },
  {
   "cell_type": "code",
   "execution_count": 184,
   "metadata": {},
   "outputs": [],
   "source": [
    "#Positive 예측값이 많아지면 상대적으로 재현율이 높아진다."
   ]
  },
  {
   "cell_type": "code",
   "execution_count": 185,
   "metadata": {},
   "outputs": [
    {
     "name": "stdout",
     "output_type": "stream",
     "text": [
      "임계값: 0.4\n",
      "오차행렬\n",
      "[[97 21]\n",
      " [12 49]]\n",
      "정확도:0.8156424581005587,정밀도:0.7,재현율:0.8032786885245902\n",
      "임계값: 0.45\n",
      "오차행렬\n",
      "[[103  15]\n",
      " [ 13  48]]\n",
      "정확도:0.8435754189944135,정밀도:0.7619047619047619,재현율:0.7868852459016393\n",
      "임계값: 0.5\n",
      "오차행렬\n",
      "[[106  12]\n",
      " [ 13  48]]\n",
      "정확도:0.8603351955307262,정밀도:0.8,재현율:0.7868852459016393\n",
      "임계값: 0.55\n",
      "오차행렬\n",
      "[[110   8]\n",
      " [ 15  46]]\n",
      "정확도:0.8715083798882681,정밀도:0.8518518518518519,재현율:0.7540983606557377\n",
      "임계값: 0.6\n",
      "오차행렬\n",
      "[[113   5]\n",
      " [ 17  44]]\n",
      "정확도:0.8770949720670391,정밀도:0.8979591836734694,재현율:0.7213114754098361\n"
     ]
    }
   ],
   "source": [
    "thresholds=[0.4,0.45,0.5,0.55,0.60]\n",
    "\n",
    "def get_eval_by_threshold(y_test,pred_proba_c1,threshold):\n",
    "    for custom_threshold in thresholds:\n",
    "        binarizer=Binarizer(threshold=custom_threshold).fit(pred_proba_c1)\n",
    "        custom_predict=binarizer.transform(pred_proba_c1)\n",
    "        print('임계값:',custom_threshold)\n",
    "        get_clf_eval(y_test,custom_predict)\n",
    "        \n",
    "        \n",
    "get_eval_by_threshold(y_test,pred_proba[:,1].reshape(-1,1),thresholds)"
   ]
  },
  {
   "cell_type": "code",
   "execution_count": 205,
   "metadata": {},
   "outputs": [
    {
     "name": "stdout",
     "output_type": "stream",
     "text": [
      "반환된 분류 결정 임계값 배열의 shape: (142,)\n",
      "샘플 추출을 위한 임계값 배열의 index 10개:  [  0  15  30  45  60  75  90 105 120 135]\n",
      "샘플용 10개의 임계값: [0.11 0.13 0.15 0.2  0.29 0.41 0.56 0.67 0.82 0.93]\n",
      "샘플임계값별 정밀도: [0.391 0.451 0.47  0.539 0.643 0.71  0.852 0.947 0.957 1.   ]\n",
      "샘플임계값별 재현율: [1.    0.984 0.902 0.902 0.885 0.803 0.754 0.59  0.361 0.131]\n"
     ]
    }
   ],
   "source": [
    "from sklearn.metrics import precision_recall_curve\n",
    "\n",
    "#레이블값이1일 때의 예측 확률을 추출\n",
    "pred_porba_class1=lr_clf.predict_proba(X_test)[:,1]\n",
    "\n",
    "#실제값 데이터세트와 레이블 값이 1일 때의 예측 확률을 precision_recall_curve인자로 입력\n",
    "precisions,recalls,thresholds=precision_recall_curve(y_test,pred_porba_class1)\n",
    "print('반환된 분류 결정 임계값 배열의 shape:',thresholds.shape)\n",
    "\n",
    "#반환된 임계값 배열 row가 142건이므로 샘플로 10건만 추출하되, 임계값을 15step 으로 추출\n",
    "thr_index=np.arange(0,thresholds.shape[0],15)\n",
    "print('샘플 추출을 위한 임계값 배열의 index 10개: ',thr_index)\n",
    "print('샘플용 10개의 임계값:',np.round(thresholds[thr_index],2))\n",
    "\n",
    "#15step 단위로 추출된 임계값에 따른 정밀도와 재현율 값\n",
    "print('샘플임계값별 정밀도:',np.round(precision[thr_index],3))\n",
    "print('샘플임계값별 재현율:',np.round(recalls[thr_index],3))"
   ]
  },
  {
   "cell_type": "code",
   "execution_count": 198,
   "metadata": {},
   "outputs": [
    {
     "data": {
      "text/plain": [
       "array([0.1093533 , 0.12999304, 0.15371203, 0.19507525, 0.28521973,\n",
       "       0.41296918, 0.55770886, 0.67352265, 0.81773373, 0.93219428])"
      ]
     },
     "execution_count": 198,
     "metadata": {},
     "output_type": "execute_result"
    }
   ],
   "source": [
    "thresholds[thr_index]"
   ]
  },
  {
   "cell_type": "code",
   "execution_count": 199,
   "metadata": {},
   "outputs": [
    {
     "data": {
      "text/plain": [
       "array([0.1093533 , 0.10935521, 0.10937656, 0.11321247, 0.11351738,\n",
       "       0.11356135, 0.11522132, 0.11842088, 0.11845255, 0.11846011,\n",
       "       0.11877688, 0.11880638, 0.12036448, 0.12890632, 0.1292739 ,\n",
       "       0.12999304, 0.13027443, 0.1322184 , 0.13452668, 0.1368114 ,\n",
       "       0.13863139, 0.14052362, 0.14057327, 0.14057422, 0.14057872,\n",
       "       0.14378535, 0.14391726, 0.1439271 , 0.14413042, 0.1441333 ,\n",
       "       0.15371203, 0.15375303, 0.15375914, 0.15732608, 0.15896203,\n",
       "       0.16027994, 0.16241563, 0.16428691, 0.16781807, 0.16968824,\n",
       "       0.17657992, 0.1834338 , 0.18701763, 0.19319287, 0.19337598,\n",
       "       0.19507525, 0.19507556, 0.19868553, 0.20065348, 0.20256093,\n",
       "       0.2102904 , 0.22941097, 0.23372804, 0.23627415, 0.24215401,\n",
       "       0.24678123, 0.24682617, 0.26951181, 0.27866472, 0.28498037,\n",
       "       0.28521973, 0.29131199, 0.29981079, 0.30821757, 0.3182243 ,\n",
       "       0.32379927, 0.32663238, 0.3343652 , 0.35798174, 0.36211774,\n",
       "       0.37088293, 0.38008551, 0.38773432, 0.39229787, 0.41002005,\n",
       "       0.41296918, 0.41881587, 0.42050212, 0.42495513, 0.43273942,\n",
       "       0.44023476, 0.45103568, 0.488297  , 0.49986171, 0.50080111,\n",
       "       0.50176951, 0.50618987, 0.50931158, 0.53701701, 0.53794111,\n",
       "       0.55770886, 0.55987499, 0.57072032, 0.58325184, 0.58542227,\n",
       "       0.61453072, 0.62142522, 0.62994636, 0.62995958, 0.63627166,\n",
       "       0.63971529, 0.64933919, 0.65404156, 0.65409736, 0.6662461 ,\n",
       "       0.67352265, 0.68113393, 0.69715637, 0.70788476, 0.72348445,\n",
       "       0.7324959 , 0.74242084, 0.74812693, 0.76309635, 0.76832953,\n",
       "       0.76910895, 0.77033537, 0.78820257, 0.79777224, 0.81587223,\n",
       "       0.81773373, 0.82885617, 0.82916138, 0.82988912, 0.86305482,\n",
       "       0.86985925, 0.87897542, 0.87931096, 0.88263983, 0.88993141,\n",
       "       0.90781375, 0.91306364, 0.92289435, 0.9247155 , 0.92787819,\n",
       "       0.93219428, 0.93531769, 0.93605614, 0.93814846, 0.93830202,\n",
       "       0.94543896, 0.96461448])"
      ]
     },
     "execution_count": 199,
     "metadata": {},
     "output_type": "execute_result"
    }
   ],
   "source": [
    "thresholds"
   ]
  },
  {
   "cell_type": "code",
   "execution_count": 203,
   "metadata": {},
   "outputs": [],
   "source": [
    "import matplotlib.pyplot as plt\n",
    "import matplotlib.ticker as ticker\n",
    "%matplotlib inline"
   ]
  },
  {
   "cell_type": "code",
   "execution_count": 210,
   "metadata": {},
   "outputs": [
    {
     "data": {
      "image/png": "[encoded data removed]",
      "text/plain": [
       "<Figure size 576x432 with 1 Axes>"
      ]
     },
     "metadata": {
      "needs_background": "light"
     },
     "output_type": "display_data"
    }
   ],
   "source": [
    "def precision_recalll_curve_plot(y_test,pred_proba_c1):\n",
    "    precisions,recalls,thresholds=precision_recall_curve(y_test,pred_proba_c1)\n",
    "    \n",
    "    plt.figure(figsize=(8,6))\n",
    "    threshold_boundary=thresholds.shape[0]\n",
    "    plt.plot(thresholds,precisions[0:threshold_boundary],linestyle='--',label='precision')\n",
    "    plt.plot(thresholds,recalls[0:threshold_boundary],label='recall')\n",
    "    \n",
    "    start,end=plt.xlim()\n",
    "    plt.xticks(np.round(np.arange(start,end,0.1),2))\n",
    "    \n",
    "    plt.xlabel('Threshold value');plt.ylabel('Precision and Recall label')\n",
    "    plt.legend();plt.grid()\n",
    "    plt.show()\n",
    "    \n",
    "precision_recalll_curve_plot(y_test,lr_clf.predict_proba(X_test)[:,1])"
   ]
  },
  {
   "cell_type": "code",
   "execution_count": 206,
   "metadata": {},
   "outputs": [
    {
     "data": {
      "text/plain": [
       "array([0.39102564, 0.38709677])"
      ]
     },
     "execution_count": 206,
     "metadata": {},
     "output_type": "execute_result"
    }
   ],
   "source": [
    "precisions[0:2]"
   ]
  },
  {
   "cell_type": "code",
   "execution_count": 211,
   "metadata": {},
   "outputs": [
    {
     "data": {
      "text/plain": [
       "0.7933884297520661"
      ]
     },
     "execution_count": 211,
     "metadata": {},
     "output_type": "execute_result"
    }
   ],
   "source": [
    "from sklearn.metrics import f1_score\n",
    "f1=f1_score(y_test,pred)\n",
    "f1"
   ]
  },
  {
   "cell_type": "code",
   "execution_count": 214,
   "metadata": {},
   "outputs": [],
   "source": [
    "def get_clf_eval(y_test,pred):\n",
    "    confusion=confusion_matrix(y_test,pred)\n",
    "    accuracy=accuracy_score(y_test,pred)\n",
    "    precision=precision_score(y_test,pred)\n",
    "    recall=recall_score(y_test,pred)\n",
    "    f1=f1_score(y_test,pred)\n",
    "    print('오차행렬')\n",
    "    print(confusion)\n",
    "    print('정확도:{0},정밀도:{1},재현율:{2},f1 score:{3}'.format(accuracy,precision,recall,f1))"
   ]
  },
  {
   "cell_type": "code",
   "execution_count": 215,
   "metadata": {},
   "outputs": [
    {
     "name": "stdout",
     "output_type": "stream",
     "text": [
      "임계값: 0.4\n",
      "오차행렬\n",
      "[[97 21]\n",
      " [12 49]]\n",
      "정확도:0.8156424581005587,정밀도:0.7,재현율:0.8032786885245902,f1 score:0.7480916030534351\n",
      "임계값: 0.45\n",
      "오차행렬\n",
      "[[103  15]\n",
      " [ 13  48]]\n",
      "정확도:0.8435754189944135,정밀도:0.7619047619047619,재현율:0.7868852459016393,f1 score:0.7741935483870968\n",
      "임계값: 0.5\n",
      "오차행렬\n",
      "[[106  12]\n",
      " [ 13  48]]\n",
      "정확도:0.8603351955307262,정밀도:0.8,재현율:0.7868852459016393,f1 score:0.7933884297520661\n",
      "임계값: 0.55\n",
      "오차행렬\n",
      "[[110   8]\n",
      " [ 15  46]]\n",
      "정확도:0.8715083798882681,정밀도:0.8518518518518519,재현율:0.7540983606557377,f1 score:0.7999999999999999\n",
      "임계값: 0.6\n",
      "오차행렬\n",
      "[[113   5]\n",
      " [ 17  44]]\n",
      "정확도:0.8770949720670391,정밀도:0.8979591836734694,재현율:0.7213114754098361,f1 score:0.8\n"
     ]
    }
   ],
   "source": [
    "thresholds=[0.4,0.45,0.5,0.55,0.60]\n",
    "\n",
    "def get_eval_by_threshold(y_test,pred_proba_c1,threshold):\n",
    "    for custom_threshold in thresholds:\n",
    "        binarizer=Binarizer(threshold=custom_threshold).fit(pred_proba_c1)\n",
    "        custom_predict=binarizer.transform(pred_proba_c1)\n",
    "        print('임계값:',custom_threshold)\n",
    "        get_clf_eval(y_test,custom_predict)\n",
    "        \n",
    "        \n",
    "get_eval_by_threshold(y_test,pred_proba[:,1].reshape(-1,1),thresholds)"
   ]
  },
  {
   "cell_type": "code",
   "execution_count": 216,
   "metadata": {},
   "outputs": [],
   "source": [
    "from sklearn.metrics import roc_curve"
   ]
  },
  {
   "cell_type": "code",
   "execution_count": 219,
   "metadata": {},
   "outputs": [
    {
     "name": "stdout",
     "output_type": "stream",
     "text": [
      "샘플추출을 위한 임계값 배열의 index 10개: [ 0  5 10 15 20 25 30 35 40 45]\n",
      "샘플용 10개의 임계값: [1.96 0.8  0.62 0.45 0.36 0.24 0.14 0.14 0.12 0.01]\n",
      "샘플 임계값별 FPR: [0.   0.02 0.03 0.13 0.19 0.31 0.53 0.58 0.67 1.  ]\n",
      "샘플 임계값별 TPR: [0.   0.38 0.72 0.79 0.87 0.9  0.92 0.95 0.98 1.  ]\n"
     ]
    }
   ],
   "source": [
    "#레이블 값이 1일 때의 예측 확률을 추출\n",
    "pred_proba_class1=lr_clf.predict_proba(X_test)[:,1]\n",
    "\n",
    "FPR,TPR, thresholds=roc_curve(y_test,pred_porba_class1)\n",
    "#반환된 임계값 배열로우가 47건 이므로 샘플로 10건만 추출하되, 임계값을 5step으로 추출\n",
    "thr_index=np.arange(0,thresholds.shape[0],5)\n",
    "print('샘플추출을 위한 임계값 배열의 index 10개:',thr_index)\n",
    "print('샘플용 10개의 임계값:',np.round(thresholds[thr_index],2))\n",
    "\n",
    "#5step 단위로 추출된 임계값에 따른 FPR,TPR값\n",
    "print('샘플 임계값별 FPR:',np.round(FPR[thr_index],2))\n",
    "print('샘플 임계값별 TPR:',np.round(TPR[thr_index],2))"
   ]
  },
  {
   "cell_type": "code",
   "execution_count": 221,
   "metadata": {},
   "outputs": [
    {
     "data": {
      "image/png": "[encoded data removed]",
      "text/plain": [
       "<Figure size 432x288 with 1 Axes>"
      ]
     },
     "metadata": {
      "needs_background": "light"
     },
     "output_type": "display_data"
    }
   ],
   "source": [
    "def roc_curve_plot(y_test,pred_proba_c1):\n",
    "    fprs,tprs,thresholds=roc_curve(y_test,pred_proba_c1)\n",
    "    #ROC곡선을 그래프 곡선으로 그림\n",
    "    plt.plot(fprs,tprs,label='ROC')\n",
    "    #가운데 대각선 직선을 그림\n",
    "    plt.plot([0,1],[0,1],'k--',label='Random')\n",
    "    \n",
    "    #FPR X축의 Scale을 0.1 단위로 변경, X,Y축 명 설정 등\n",
    "    start,end=plt.xlim()\n",
    "    plt.xticks(np.round(np.arange(start,end,0.1),2))\n",
    "    plt.xlim(0,1);plt.ylim(0,1)\n",
    "    plt.xlabel('FPR(1-Sensitivity)');plt.ylabel('TPR(Recall)')\n",
    "    plt.legend()\n",
    "    \n",
    "roc_curve_plot(y_test,pred_proba[:,1])"
   ]
  },
  {
   "cell_type": "code",
   "execution_count": 222,
   "metadata": {},
   "outputs": [
    {
     "data": {
      "text/plain": [
       "0.842595165323701"
      ]
     },
     "execution_count": 222,
     "metadata": {},
     "output_type": "execute_result"
    }
   ],
   "source": [
    "from sklearn.metrics import roc_auc_score\n",
    "\n",
    "roc_auc_score(y_test,pred)"
   ]
  },
  {
   "cell_type": "code",
   "execution_count": null,
   "metadata": {},
   "outputs": [],
   "source": []
  },
  {
   "cell_type": "code",
   "execution_count": null,
   "metadata": {},
   "outputs": [],
   "source": []
  },
  {
   "cell_type": "code",
   "execution_count": null,
   "metadata": {},
   "outputs": [],
   "source": []
  },
  {
   "cell_type": "code",
   "execution_count": null,
   "metadata": {},
   "outputs": [],
   "source": []
  },
  {
   "cell_type": "code",
   "execution_count": 131,
   "metadata": {},
   "outputs": [
    {
     "name": "stdout",
     "output_type": "stream",
     "text": [
      "3    183\n",
      "5    182\n",
      "1    182\n",
      "6    181\n",
      "4    181\n",
      "9    180\n",
      "7    179\n",
      "0    178\n",
      "2    177\n",
      "8    174\n",
      "dtype: int64\n"
     ]
    },
    {
     "ename": "AttributeError",
     "evalue": "'DataFrame' object has no attribute 'value_counts'",
     "output_type": "error",
     "traceback": [
      "\u001b[1;31m---------------------------------------------------------------------------\u001b[0m",
      "\u001b[1;31mAttributeError\u001b[0m                            Traceback (most recent call last)",
      "\u001b[1;32m<ipython-input-131-e7a5c66c1421>\u001b[0m in \u001b[0;36m<module>\u001b[1;34m\u001b[0m\n\u001b[0;32m      1\u001b[0m \u001b[0mprint\u001b[0m\u001b[1;33m(\u001b[0m\u001b[0mpd\u001b[0m\u001b[1;33m.\u001b[0m\u001b[0mSeries\u001b[0m\u001b[1;33m(\u001b[0m\u001b[0mdigits\u001b[0m\u001b[1;33m.\u001b[0m\u001b[0mtarget\u001b[0m\u001b[1;33m)\u001b[0m\u001b[1;33m.\u001b[0m\u001b[0mvalue_counts\u001b[0m\u001b[1;33m(\u001b[0m\u001b[1;33m)\u001b[0m\u001b[1;33m)\u001b[0m\u001b[1;33m\u001b[0m\u001b[1;33m\u001b[0m\u001b[0m\n\u001b[1;32m----> 2\u001b[1;33m \u001b[0mprint\u001b[0m\u001b[1;33m(\u001b[0m\u001b[0mpd\u001b[0m\u001b[1;33m.\u001b[0m\u001b[0mDataFrame\u001b[0m\u001b[1;33m(\u001b[0m\u001b[0mdigits\u001b[0m\u001b[1;33m.\u001b[0m\u001b[0mdata\u001b[0m\u001b[1;33m)\u001b[0m\u001b[1;33m.\u001b[0m\u001b[0mvalue_counts\u001b[0m\u001b[1;33m(\u001b[0m\u001b[1;33m)\u001b[0m\u001b[1;33m)\u001b[0m\u001b[1;33m\u001b[0m\u001b[1;33m\u001b[0m\u001b[0m\n\u001b[0m",
      "\u001b[1;32m~\\anaconda3\\lib\\site-packages\\pandas\\core\\generic.py\u001b[0m in \u001b[0;36m__getattr__\u001b[1;34m(self, name)\u001b[0m\n\u001b[0;32m   5272\u001b[0m             \u001b[1;32mif\u001b[0m \u001b[0mself\u001b[0m\u001b[1;33m.\u001b[0m\u001b[0m_info_axis\u001b[0m\u001b[1;33m.\u001b[0m\u001b[0m_can_hold_identifiers_and_holds_name\u001b[0m\u001b[1;33m(\u001b[0m\u001b[0mname\u001b[0m\u001b[1;33m)\u001b[0m\u001b[1;33m:\u001b[0m\u001b[1;33m\u001b[0m\u001b[1;33m\u001b[0m\u001b[0m\n\u001b[0;32m   5273\u001b[0m                 \u001b[1;32mreturn\u001b[0m \u001b[0mself\u001b[0m\u001b[1;33m[\u001b[0m\u001b[0mname\u001b[0m\u001b[1;33m]\u001b[0m\u001b[1;33m\u001b[0m\u001b[1;33m\u001b[0m\u001b[0m\n\u001b[1;32m-> 5274\u001b[1;33m             \u001b[1;32mreturn\u001b[0m \u001b[0mobject\u001b[0m\u001b[1;33m.\u001b[0m\u001b[0m__getattribute__\u001b[0m\u001b[1;33m(\u001b[0m\u001b[0mself\u001b[0m\u001b[1;33m,\u001b[0m \u001b[0mname\u001b[0m\u001b[1;33m)\u001b[0m\u001b[1;33m\u001b[0m\u001b[1;33m\u001b[0m\u001b[0m\n\u001b[0m\u001b[0;32m   5275\u001b[0m \u001b[1;33m\u001b[0m\u001b[0m\n\u001b[0;32m   5276\u001b[0m     \u001b[1;32mdef\u001b[0m \u001b[0m__setattr__\u001b[0m\u001b[1;33m(\u001b[0m\u001b[0mself\u001b[0m\u001b[1;33m,\u001b[0m \u001b[0mname\u001b[0m\u001b[1;33m:\u001b[0m \u001b[0mstr\u001b[0m\u001b[1;33m,\u001b[0m \u001b[0mvalue\u001b[0m\u001b[1;33m)\u001b[0m \u001b[1;33m->\u001b[0m \u001b[1;32mNone\u001b[0m\u001b[1;33m:\u001b[0m\u001b[1;33m\u001b[0m\u001b[1;33m\u001b[0m\u001b[0m\n",
      "\u001b[1;31mAttributeError\u001b[0m: 'DataFrame' object has no attribute 'value_counts'"
     ]
    }
   ],
   "source": [
    "print(pd.Series(digits.target).value_counts())\n",
    "print(pd.DataFrame(digits.data).value_counts())"
   ]
  },
  {
   "cell_type": "code",
   "execution_count": 115,
   "metadata": {},
   "outputs": [
    {
     "name": "stdout",
     "output_type": "stream",
     "text": [
      "[[ 0.  0.  5. ...  0.  0.  0.]\n",
      " [ 0.  0.  0. ... 10.  0.  0.]\n",
      " [ 0.  0.  0. ... 16.  9.  0.]\n",
      " ...\n",
      " [ 0.  0.  1. ...  6.  0.  0.]\n",
      " [ 0.  0.  2. ... 12.  0.  0.]\n",
      " [ 0.  0. 10. ... 12.  1.  0.]] \n",
      " [0 1 2 ... 8 9 8]\n"
     ]
    }
   ],
   "source": [
    "print(digits.data,'\\n',digits.target)"
   ]
  },
  {
   "cell_type": "code",
   "execution_count": 116,
   "metadata": {},
   "outputs": [
    {
     "data": {
      "text/plain": [
       "(1797, 64)"
      ]
     },
     "execution_count": 116,
     "metadata": {},
     "output_type": "execute_result"
    }
   ],
   "source": [
    "digits.data.shape"
   ]
  },
  {
   "cell_type": "code",
   "execution_count": 117,
   "metadata": {},
   "outputs": [
    {
     "data": {
      "text/plain": [
       "(1797,)"
      ]
     },
     "execution_count": 117,
     "metadata": {},
     "output_type": "execute_result"
    }
   ],
   "source": [
    "digits.target.shape"
   ]
  },
  {
   "cell_type": "code",
   "execution_count": 119,
   "metadata": {},
   "outputs": [
    {
     "ename": "AttributeError",
     "evalue": "'numpy.ndarray' object has no attribute 'value_counts'",
     "output_type": "error",
     "traceback": [
      "\u001b[1;31m---------------------------------------------------------------------------\u001b[0m",
      "\u001b[1;31mAttributeError\u001b[0m                            Traceback (most recent call last)",
      "\u001b[1;32m<ipython-input-119-6999b6143d6d>\u001b[0m in \u001b[0;36m<module>\u001b[1;34m\u001b[0m\n\u001b[1;32m----> 1\u001b[1;33m \u001b[0mdigits\u001b[0m\u001b[1;33m.\u001b[0m\u001b[0mtarget\u001b[0m\u001b[1;33m.\u001b[0m\u001b[0mvalue_counts\u001b[0m\u001b[1;33m(\u001b[0m\u001b[1;33m)\u001b[0m\u001b[1;33m\u001b[0m\u001b[1;33m\u001b[0m\u001b[0m\n\u001b[0m",
      "\u001b[1;31mAttributeError\u001b[0m: 'numpy.ndarray' object has no attribute 'value_counts'"
     ]
    }
   ],
   "source": [
    "digits.target.value_counts()"
   ]
  },
  {
   "cell_type": "code",
   "execution_count": 41,
   "metadata": {},
   "outputs": [
    {
     "data": {
      "text/plain": [
       "4.9"
      ]
     },
     "execution_count": 41,
     "metadata": {},
     "output_type": "execute_result"
    }
   ],
   "source": [
    "iris_df['sepal length (cm)'].iloc[1]"
   ]
  },
  {
   "cell_type": "code",
   "execution_count": null,
   "metadata": {},
   "outputs": [],
   "source": []
  },
  {
   "cell_type": "code",
   "execution_count": null,
   "metadata": {},
   "outputs": [],
   "source": []
  },
  {
   "cell_type": "code",
   "execution_count": null,
   "metadata": {},
   "outputs": [],
   "source": []
  },
  {
   "cell_type": "code",
   "execution_count": null,
   "metadata": {},
   "outputs": [],
   "source": []
  },
  {
   "cell_type": "code",
   "execution_count": null,
   "metadata": {},
   "outputs": [],
   "source": []
  }
 ],
 "metadata": {
  "kernelspec": {
   "display_name": "Python 3",
   "language": "python",
   "name": "python3"
  },
  "language_info": {
   "codemirror_mode": {
    "name": "ipython",
    "version": 3
   },
   "file_extension": ".py",
   "mimetype": "text/x-python",
   "name": "python",
   "nbconvert_exporter": "python",
   "pygments_lexer": "ipython3",
   "version": "3.8.3"
  }
 },
 "nbformat": 4,
 "nbformat_minor": 4
}
